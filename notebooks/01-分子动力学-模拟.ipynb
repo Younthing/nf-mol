{
 "cells": [
  {
   "cell_type": "raw",
   "metadata": {
    "vscode": {
     "languageId": "raw"
    }
   },
   "source": [
    "---\n",
    "title: \"蛋白质准备\"\n",
    "format: html\n",
    "---"
   ]
  },
  {
   "cell_type": "code",
   "execution_count": 7,
   "metadata": {},
   "outputs": [],
   "source": [
    "# %conda install conda-forge::openmmforcefields\n",
    "# % conda install conda-forge::pdbfixer\n",
    "# %conda update --all"
   ]
  },
  {
   "cell_type": "code",
   "execution_count": 8,
   "metadata": {},
   "outputs": [],
   "source": [
    "import copy\n",
    "from pathlib import Path\n",
    "import sys\n",
    "import requests\n",
    "from IPython.display import display\n",
    "import numpy as np\n",
    "from rdkit import Chem\n",
    "from rdkit.Chem import Draw\n",
    "from rdkit.Chem import AllChem\n",
    "import mdtraj as md\n",
    "import pdbfixer\n",
    "import openmm as mm\n",
    "import openmm.app as app\n",
    "from openmm import unit\n",
    "from openff.toolkit.topology import Molecule, Topology\n",
    "from openmmforcefields.generators import GAFFTemplateGenerator\n"
   ]
  },
  {
   "cell_type": "code",
   "execution_count": 9,
   "metadata": {},
   "outputs": [],
   "source": [
    "HERE = Path(_dh[-1])\n",
    "DATA = HERE / \"data\"\n",
    "DATA.mkdir(exist_ok=True)"
   ]
  },
  {
   "cell_type": "code",
   "execution_count": 10,
   "metadata": {},
   "outputs": [],
   "source": [
    "pdbid = \"3POZ\"\n",
    "ligand_name = \"03P\"\n",
    "pdb_path = DATA / f\"{pdbid}.pdb\"\n",
    "pdb_url = f\"https://files.rcsb.org/download/{pdbid}.pdb\"\n",
    "\n",
    "r = requests.get(pdb_url)\n",
    "r.raise_for_status()\n",
    "with open(pdb_path, \"wb\") as f:\n",
    "    f.write(r.content)"
   ]
  },
  {
   "cell_type": "code",
   "execution_count": 11,
   "metadata": {},
   "outputs": [],
   "source": [
    "def prepare_protein(\n",
    "    pdb_file,  # pdb_file: pathlib.Path 或 str,  PDB文件路径，包含要模拟的系统\n",
    "    ignore_missing_residues=True,  # ignore_missing_residues: bool, 可选, 是否忽略缺失的残基，默认为True\n",
    "    ignore_terminal_missing_residues=True,  # ignore_terminal_missing_residues: bool, 可选, 是否忽略链头和链尾缺失的残基，默认为True\n",
    "    ph=7.0,  # ph: float, 可选, 用于确定残基质子化状态的pH值，默认为7.0\n",
    "):\n",
    "    \"\"\"\n",
    "    使用pdbfixer从PDB文件中准备蛋白质。去除诸如配体之类的杂原子，并替换非标准残基。\n",
    "    为现有残基添加缺失的原子。默认情况下忽略缺失的残基，但可以包含。\n",
    "\n",
    "    Parameters\n",
    "    ----------\n",
    "    pdb_file: pathlib.Path or str\n",
    "        包含要模拟的系统的PDB文件。\n",
    "    ignore_missing_residues: bool, optional\n",
    "        是否应该忽略或构建缺失的残基。\n",
    "    ignore_terminal_missing_residues: bool, optional\n",
    "        是否应该忽略或构建链头和链尾缺失的残基。\n",
    "    ph: float, optional\n",
    "        用于确定残基质子化状态的pH值。\n",
    "\n",
    "    Returns\n",
    "    -------\n",
    "    fixer: pdbfixer.pdbfixer.PDBFixer\n",
    "        准备好的蛋白质系统。\n",
    "    \"\"\"\n",
    "    fixer = pdbfixer.PDBFixer(str(pdb_file))  # 创建PDBFixer对象，读取PDB文件\n",
    "    fixer.removeHeterogens()  # 移除杂原子，例如：与蛋白质共结晶的配体，这些配体对于PDBFixer是未知的\n",
    "    fixer.findMissingResidues()  # 查找缺失的残基，用于后续识别缺失的原子\n",
    "\n",
    "    # 如果要忽略末端的缺失残基，则将其从字典中删除\n",
    "    if ignore_terminal_missing_residues:\n",
    "        chains = list(fixer.topology.chains())  # 获取所有链\n",
    "        keys = fixer.missingResidues.keys()  # 获取缺失残基的键\n",
    "        for key in list(keys):\n",
    "            chain = chains[key[0]]  # 获取对应链\n",
    "            if key[1] == 0 or key[1] == len(\n",
    "                list(chain.residues())\n",
    "            ):  # 如果是链头或链尾的残基\n",
    "                del fixer.missingResidues[key]  # 从缺失残基的字典中删除该残基\n",
    "\n",
    "    # 如果要忽略所有缺失的残基，则清空字典\n",
    "    if ignore_missing_residues:\n",
    "        fixer.missingResidues = {}\n",
    "\n",
    "    fixer.findNonstandardResidues()  # 查找非标准残基\n",
    "    fixer.replaceNonstandardResidues()  # 将非标准残基替换为标准残基\n",
    "    fixer.findMissingAtoms()  # 查找缺失的重原子\n",
    "    fixer.addMissingAtoms()  # 添加缺失的原子和残基\n",
    "    fixer.addMissingHydrogens(ph)  # 添加缺失的氢原子\n",
    "    return fixer  # 返回准备好的蛋白质系统"
   ]
  },
  {
   "cell_type": "code",
   "execution_count": 12,
   "metadata": {},
   "outputs": [],
   "source": [
    "prepared_protein = prepare_protein(pdb_path, ignore_missing_residues=False)\n"
   ]
  },
  {
   "cell_type": "markdown",
   "metadata": {},
   "source": [
    "## 两种分子来源 \n",
    "- 使用聚合体中的分子\n",
    "- 使用sdf文件的分子（来自分子对接结果，分子动力学一般需要结合好的）"
   ]
  },
  {
   "cell_type": "code",
   "execution_count": 13,
   "metadata": {},
   "outputs": [],
   "source": [
    "def prepare_ligand(pdb_file, resname, smiles, depict=True):\n",
    "    \"\"\"\n",
    "    通过添加氢原子和分配键级来从PDB文件准备配体。可以在2D中渲染配体的准备前后状态以便检查结果。\n",
    "    感谢@j-wags的建议。\n",
    "\n",
    "    参数说明\n",
    "    ----------\n",
    "    pdb_file: pathlib.PosixPath\n",
    "       包含目标配体的PDB文件\n",
    "    resname: str\n",
    "        配体的三字符残基名称\n",
    "    smiles : str\n",
    "        配体的SMILES字符串，用于提供正确的质子化状态和键级信息\n",
    "    depict: bool, 可选\n",
    "        是否显示配体的2D表示\n",
    "\n",
    "    返回值\n",
    "    -------\n",
    "    prepared_ligand: rdkit.Chem.rdchem.Mol\n",
    "        准备好的配体分子对象\n",
    "    \"\"\"\n",
    "\n",
    "    # 第一步：读取分子结构\n",
    "    # 直觉理解：就像打开一个3D模型文件\n",
    "    # 不这么做会怎样：无法获取分子的原子坐标信息，后续处理无法进行\n",
    "    rdkit_mol = Chem.MolFromPDBFile(str(pdb_file))\n",
    "    # 第二步：分子分割\n",
    "    # 直觉理解：就像在拼图中找出我们需要的那一块\n",
    "    # 不这么做会怎样：会处理整个蛋白质复合物，导致计算效率低下且可能出错\n",
    "    rdkit_mol_split = Chem.rdmolops.SplitMolByPDBResidues(rdkit_mol)\n",
    "\n",
    "    # 第三步：提取配体并清理氢原子\n",
    "    # 直觉理解：相当于先把旧的、可能错误的装饰品都拿掉，准备重新装饰\n",
    "    # 不这么做会怎样：可能会有重复或错误的氢原子，影响后续计算的准确性\n",
    "    ligand = rdkit_mol_split[resname]\n",
    "    # TODO 附：从sdf文件中读取配体\n",
    "    # ligand = Chem.SDMolSupplier(str(sdf_file))[0] # 读取sdf中第一个分子\n",
    "\n",
    "    ligand = Chem.RemoveHs(ligand)\n",
    "\n",
    "    # 第四步：使用模板分配键级\n",
    "    # 直觉理解：用标准图纸（SMILES）来修正模型中的连接关系\n",
    "    # 不这么做会怎样：分子中的化学键性质将不准确，影响后续所有依赖于电子结构的计算\n",
    "    reference_mol = Chem.MolFromSmiles(smiles)\n",
    "    prepared_ligand = AllChem.AssignBondOrdersFromTemplate(reference_mol, ligand)\n",
    "    # 保持原有的3D结构\n",
    "    # 直觉理解：保留分子的\"姿势\"，只改变内部连接方式\n",
    "    prepared_ligand.AddConformer(ligand.GetConformer(0))\n",
    "\n",
    "    # 第五步：添加氢原子\n",
    "    # 直觉理解：在正确的位置添加上所有缺失的氢原子\n",
    "    # 不这么做会怎样：分子的价键将不完整，影响分子动力学模拟的准确性\n",
    "    prepared_ligand = Chem.rdmolops.AddHs(prepared_ligand, addCoords=True)\n",
    "    prepared_ligand = Chem.MolFromMolBlock(Chem.MolToMolBlock(prepared_ligand))\n",
    "\n",
    "    # 第六步：可视化检查（可选）\n",
    "    # 直觉理解：提供处理前后的对比图，就像装修前后的对比照片\n",
    "    # 不这么做会怎样：可能无法直观地发现处理过程中的潜在问题\n",
    "    if depict:\n",
    "        ligand_2d = copy.deepcopy(ligand)\n",
    "        prepared_ligand_2d = copy.deepcopy(prepared_ligand)\n",
    "        AllChem.Compute2DCoords(ligand_2d)\n",
    "        AllChem.Compute2DCoords(prepared_ligand_2d)\n",
    "        display(\n",
    "            Draw.MolsToGridImage(\n",
    "                [ligand_2d, prepared_ligand_2d],\n",
    "                molsPerRow=2,\n",
    "                legends=[\"original\", \"prepared\"],\n",
    "            )\n",
    "        )\n",
    "\n",
    "    return prepared_ligand\n"
   ]
  },
  {
   "cell_type": "code",
   "execution_count": 14,
   "metadata": {},
   "outputs": [
    {
     "name": "stderr",
     "output_type": "stream",
     "text": [
      "[16:15:41] WARNING: More than one matching pattern found - picking one\n",
      "\n"
     ]
    },
    {
     "data": {
      "image/png": "[encoded data removed]",
      "text/plain": [
       "<IPython.core.display.Image object>"
      ]
     },
     "metadata": {},
     "output_type": "display_data"
    }
   ],
   "source": [
    "smiles = \"CC(C)(O)CC(=O)NCCn1ccc2ncnc(Nc3ccc(Oc4cccc(c4)C(F)(F)F)c(Cl)c3)c12\"\n",
    "rdkit_ligand = prepare_ligand(pdb_path, ligand_name, smiles)\n"
   ]
  },
  {
   "cell_type": "code",
   "execution_count": 15,
   "metadata": {},
   "outputs": [],
   "source": [
    "def rdkit_to_openmm(rdkit_mol, name=\"LIG\"):\n",
    "    \"\"\"\n",
    "    将RDKit分子转换为OpenMM分子。\n",
    "\n",
    "    参数\n",
    "    ----------\n",
    "    rdkit_mol: rdkit.Chem.rdchem.Mol\n",
    "        需要转换的RDKit分子\n",
    "    name: str\n",
    "        分子名称\n",
    "\n",
    "    返回值\n",
    "    -------\n",
    "    omm_molecule: openmm.app.Modeller\n",
    "        包含目标分子的OpenMM建模器对象\n",
    "    \"\"\"\n",
    "    # 第一步：RDKit转OpenFF\n",
    "    # 直觉理解：就像将文件从一种格式转换为中间格式\n",
    "    # 不这么做会怎样：无法利用OpenFF提供的功能和工具\n",
    "    off_mol = Molecule.from_rdkit(rdkit_mol)\n",
    "\n",
    "    # 第二步：设置分子名称\n",
    "    # 直觉理解：给分子贴上标签，方便后续识别\n",
    "    # 不这么做会怎样：在复杂体系中难以区分不同分子\n",
    "    off_mol.name = name\n",
    "\n",
    "    # 第三步：为原子添加名称\n",
    "    # 直觉理解：给分子中的每个原子编号，像给团队成员分配工号\n",
    "    # 不这么做会怎样：无法在模拟中追踪和区分同类型的原子\n",
    "    element_counter_dict = {}\n",
    "    for off_atom, rdkit_atom in zip(off_mol.atoms, rdkit_mol.GetAtoms()):\n",
    "        element = rdkit_atom.GetSymbol()\n",
    "        # 计数器更新或初始化\n",
    "        if element in element_counter_dict.keys():\n",
    "            element_counter_dict[element] += 1\n",
    "        else:\n",
    "            element_counter_dict[element] = 1\n",
    "        # 命名格式：元素符号+编号（如C1, C2, O1等）\n",
    "        off_atom.name = element + str(element_counter_dict[element])\n",
    "\n",
    "    # 第四步：OpenFF转OpenMM\n",
    "    # 直觉理解：将中间格式转换为最终需要的格式\n",
    "    # 不这么做会怎样：无法在OpenMM中使用这个分子进行模拟\n",
    "    off_mol_topology = off_mol.to_topology()\n",
    "    mol_topology = off_mol_topology.to_openmm()\n",
    "    mol_positions = off_mol.conformers[0]\n",
    "\n",
    "    # 第五步：单位转换（埃转纳米）\n",
    "    # 直觉理解：将度量单位统一到OpenMM使用的标准\n",
    "    # 不这么做会怎样：模拟中的距离会差1000倍，导致完全错误的结果\n",
    "    mol_positions = mol_positions.to(\"nanometers\")\n",
    "\n",
    "    # TODO 补丁做法，防止名字丢失\n",
    "    for chain in mol_topology.chains():\n",
    "        for residue in chain.residues():\n",
    "            residue.name = name  # 将所有残基的名称都设置为指定的名称\n",
    "    # 第六步：合并拓扑和位置信息\n",
    "    # 直觉理解：将分子的\"连接关系\"和\"空间位置\"组合在一起\n",
    "    # 不这么做会怎样：OpenMM无法同时知道原子如何连接以及在哪里\n",
    "    omm_mol = app.Modeller(mol_topology, mol_positions)\n",
    "    # 修改拓扑中的残基名称\n",
    "\n",
    "    return omm_mol\n"
   ]
  },
  {
   "cell_type": "code",
   "execution_count": 16,
   "metadata": {},
   "outputs": [],
   "source": [
    "omm_ligand = rdkit_to_openmm(rdkit_ligand, ligand_name)\n"
   ]
  },
  {
   "cell_type": "code",
   "execution_count": 17,
   "metadata": {},
   "outputs": [],
   "source": [
    "def merge_protein_and_ligand(protein, ligand):\n",
    "    \"\"\"\n",
    "    Merge two OpenMM objects.\n",
    "\n",
    "    Parameters\n",
    "    ----------\n",
    "    protein: pdbfixer.pdbfixer.PDBFixer\n",
    "        Protein to merge.\n",
    "    ligand: openmm.app.Modeller\n",
    "        Ligand to merge.\n",
    "\n",
    "    Returns\n",
    "    -------\n",
    "    complex_topology: openmm.app.topology.Topology\n",
    "        The merged topology.\n",
    "    complex_positions: openmm.unit.quantity.Quantity\n",
    "        The merged positions.\n",
    "    \"\"\"\n",
    "    # combine topologies\n",
    "    md_protein_topology = md.Topology.from_openmm(\n",
    "        protein.topology\n",
    "    )  # using mdtraj for protein top\n",
    "    md_ligand_topology = md.Topology.from_openmm(\n",
    "        ligand.topology\n",
    "    )  # using mdtraj for ligand top\n",
    "    md_complex_topology = md_protein_topology.join(\n",
    "        md_ligand_topology\n",
    "    )  # add them together\n",
    "    complex_topology = md_complex_topology.to_openmm()\n",
    "\n",
    "    # combine positions\n",
    "    total_atoms = len(protein.positions) + len(ligand.positions)\n",
    "\n",
    "    # create an array for storing all atom positions as tupels containing a value and a unit\n",
    "    # called OpenMM Quantities\n",
    "    complex_positions = unit.Quantity(np.zeros([total_atoms, 3]), unit=unit.nanometers)\n",
    "    complex_positions[: len(protein.positions)] = (\n",
    "        protein.positions\n",
    "    )  # add protein positions\n",
    "    complex_positions[len(protein.positions) :] = (\n",
    "        ligand.positions\n",
    "    )  # add ligand positions\n",
    "\n",
    "    return complex_topology, complex_positions\n"
   ]
  },
  {
   "cell_type": "code",
   "execution_count": 18,
   "metadata": {},
   "outputs": [
    {
     "name": "stderr",
     "output_type": "stream",
     "text": [
      "/root/learn/nf-mol/.conda/lib/python3.11/site-packages/openmm/unit/quantity.py:753: UnitStrippedWarning: The unit of the quantity is stripped when downcasting to ndarray.\n",
      "  self._value[key] = value / self.unit\n"
     ]
    }
   ],
   "source": [
    "complex_topology, complex_positions = merge_protein_and_ligand(\n",
    "    prepared_protein, omm_ligand\n",
    ")\n"
   ]
  },
  {
   "cell_type": "code",
   "execution_count": 19,
   "metadata": {},
   "outputs": [
    {
     "name": "stdout",
     "output_type": "stream",
     "text": [
      "Complex topology has 5561 atoms.\n"
     ]
    }
   ],
   "source": [
    "print(\"Complex topology has\", complex_topology.getNumAtoms(), \"atoms.\")\n",
    "# NBVAL_CHECK_OUTPUT\n"
   ]
  },
  {
   "cell_type": "code",
   "execution_count": 29,
   "metadata": {},
   "outputs": [],
   "source": [
    "def generate_forcefield(\n",
    "    rdkit_mol=None, protein_ff=\"amber14-all.xml\", solvent_ff=\"amber14/tip3pfb.xml\"\n",
    "):\n",
    "    \"\"\"\n",
    "    Generate an OpenMM Forcefield object and register a small molecule.\n",
    "\n",
    "    Parameters\n",
    "    ----------\n",
    "    rdkit_mol: rdkit.Chem.rdchem.Mol\n",
    "        Small molecule to register in the force field.\n",
    "    protein_ff: string\n",
    "        Name of the force field.\n",
    "    solvent_ff: string\n",
    "        Name of the solvent force field.\n",
    "\n",
    "    Returns\n",
    "    -------\n",
    "    forcefield: openmm.app.Forcefield\n",
    "        Forcefield with registered small molecule.\n",
    "    \"\"\"\n",
    "    forcefield = app.ForceField(protein_ff, solvent_ff)\n",
    "\n",
    "    if rdkit_mol is not None:\n",
    "        gaff = GAFFTemplateGenerator(\n",
    "            molecules=Molecule.from_rdkit(rdkit_mol, allow_undefined_stereo=True)\n",
    "        )\n",
    "        forcefield.registerTemplateGenerator(gaff.generator)\n",
    "\n",
    "    return forcefield\n"
   ]
  },
  {
   "cell_type": "code",
   "execution_count": 30,
   "metadata": {},
   "outputs": [
    {
     "data": {
      "text/plain": [
       "<openmm.app.forcefield.ForceField at 0x7f15e55f6750>"
      ]
     },
     "execution_count": 30,
     "metadata": {},
     "output_type": "execute_result"
    }
   ],
   "source": [
    "forcefield = generate_forcefield(rdkit_ligand)\n",
    "\n",
    "forcefield\n"
   ]
  },
  {
   "cell_type": "code",
   "execution_count": 31,
   "metadata": {},
   "outputs": [],
   "source": [
    "modeller = app.Modeller(complex_topology, complex_positions)\n",
    "modeller.addSolvent(\n",
    "    forcefield,\n",
    "    padding=1.0 * unit.nanometers,\n",
    "    ionicStrength=0.15 * unit.molar,\n",
    ")\n"
   ]
  },
  {
   "cell_type": "code",
   "execution_count": 32,
   "metadata": {},
   "outputs": [],
   "source": [
    "system = forcefield.createSystem(modeller.topology, nonbondedMethod=app.PME)\n",
    "integrator = mm.LangevinIntegrator(\n",
    "    300 * unit.kelvin, 1.0 / unit.picoseconds, 2.0 * unit.femtoseconds\n",
    ")\n",
    "simulation = app.Simulation(modeller.topology, system, integrator)\n",
    "simulation.context.setPositions(modeller.positions)\n"
   ]
  },
  {
   "cell_type": "code",
   "execution_count": 33,
   "metadata": {},
   "outputs": [],
   "source": [
    "simulation.minimizeEnergy()\n",
    "with open(DATA / \"topology.pdb\", \"w\", encoding=\"utf-8\") as pdb_file:\n",
    "    app.PDBFile.writeFile(\n",
    "        simulation.topology,\n",
    "        simulation.context.getState(\n",
    "            getPositions=True, enforcePeriodicBox=True\n",
    "        ).getPositions(),\n",
    "        file=pdb_file,\n",
    "        keepIds=True,\n",
    "    )\n"
   ]
  },
  {
   "cell_type": "code",
   "execution_count": 34,
   "metadata": {},
   "outputs": [],
   "source": [
    "steps = 5000  # corresponds to 100 ps\n",
    "write_interval = 10  # write every 10 ps\n",
    "log_interval = 250  # log progress to stdout every 5 ps\n",
    "simulation.reporters.append(\n",
    "    md.reporters.XTCReporter(\n",
    "        file=str(DATA / \"trajectory.xtc\"), reportInterval=write_interval\n",
    "    )\n",
    ")\n",
    "simulation.reporters.append(\n",
    "    app.StateDataReporter(\n",
    "        sys.stdout,\n",
    "        log_interval,\n",
    "        step=True,\n",
    "        potentialEnergy=True,\n",
    "        temperature=True,\n",
    "        progress=True,\n",
    "        remainingTime=True,\n",
    "        speed=True,\n",
    "        totalSteps=steps,\n",
    "        separator=\"\\t\",\n",
    "    )\n",
    ")"
   ]
  },
  {
   "cell_type": "code",
   "execution_count": 35,
   "metadata": {},
   "outputs": [
    {
     "name": "stdout",
     "output_type": "stream",
     "text": [
      "#\"Progress (%)\"\t\"Step\"\t\"Potential Energy (kJ/mole)\"\t\"Temperature (K)\"\t\"Speed (ns/day)\"\t\"Time Remaining\"\n",
      "5.0%\t250\t-827939.1255635219\t209.43858820855064\t0\t--\n",
      "10.0%\t500\t-810174.0246594195\t243.0936109976461\t6.88\t1:53\n",
      "15.0%\t750\t-800101.743558538\t264.20339880525376\t6.96\t1:45\n",
      "20.0%\t1000\t-794300.5796360094\t279.1073108605095\t6.54\t1:45\n",
      "25.0%\t1250\t-788846.8282844598\t286.8088525172999\t6.61\t1:38\n",
      "30.0%\t1500\t-784673.1845940044\t291.44526630241444\t6.68\t1:30\n",
      "35.0%\t1750\t-782685.5554337631\t292.641440562936\t6.71\t1:23\n",
      "40.0%\t2000\t-781461.0788409876\t295.54979896652975\t6.74\t1:16\n",
      "45.0%\t2250\t-781097.6930166034\t296.3472839573262\t6.6\t1:12\n",
      "50.0%\t2500\t-779674.6816931149\t298.1924270253502\t6.63\t1:05\n",
      "55.0%\t2750\t-779326.4547566933\t298.5355128251709\t6.64\t0:58\n",
      "60.0%\t3000\t-778610.16425615\t297.49144365172236\t6.66\t0:51\n",
      "65.0%\t3250\t-778782.6703951452\t299.1833458060493\t6.68\t0:45\n",
      "70.0%\t3500\t-778028.5120269947\t298.35426491146524\t6.6\t0:39\n",
      "75.0%\t3750\t-778373.8677333844\t298.0618567920522\t6.62\t0:32\n",
      "80.0%\t4000\t-777252.9794198879\t298.19657836535976\t6.64\t0:26\n",
      "85.0%\t4250\t-777895.1595735244\t300.2246345978275\t6.66\t0:19\n",
      "90.0%\t4500\t-778385.9503142717\t301.2563734496002\t6.67\t0:12\n",
      "95.0%\t4750\t-778574.7181604705\t301.23860801255006\t6.62\t0:06\n",
      "100.0%\t5000\t-778592.3395915064\t302.4499736197455\t6.64\t0:00\n"
     ]
    }
   ],
   "source": [
    "simulation.context.setVelocitiesToTemperature(300 * unit.kelvin)\n",
    "simulation.step(steps)  # perform the simulation\n"
   ]
  }
 ],
 "metadata": {
  "kernelspec": {
   "display_name": "Python 3",
   "language": "python",
   "name": "python3"
  },
  "language_info": {
   "codemirror_mode": {
    "name": "ipython",
    "version": 3
   },
   "file_extension": ".py",
   "mimetype": "text/x-python",
   "name": "python",
   "nbconvert_exporter": "python",
   "pygments_lexer": "ipython3",
   "version": "3.11.8"
  }
 },
 "nbformat": 4,
 "nbformat_minor": 2
}
